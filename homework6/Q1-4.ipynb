{
 "cells": [
  {
   "cell_type": "markdown",
   "id": "3533af6e-9ce0-4a79-92e5-8d4f1376fac6",
   "metadata": {},
   "source": [
    "## Preparation\n",
    "Before runing this, the data have been downloaded with\n",
    "\n",
    "wget https://github.com/DataTalksClub/nyc-tlc-data/releases/download/green/green_tripdata_2019-10.csv.gz\n",
    "\n",
    "and redpanda has been setup and started with\n",
    "\n",
    "wget https://github.com/redpanda-data-blog/2023-python-gsg/raw/main/docker-compose.yml\n",
    "\n",
    "docker-compose up -d"
   ]
  },
  {
   "cell_type": "markdown",
   "id": "5b7e67d9-3fa4-4324-805e-176f97e542ae",
   "metadata": {},
   "source": [
    "## Question 1\n",
    "```\n",
    "redpanda@f7e24871b08e:/$ rpk version\n",
    "v22.3.5 (rev 28b2443)\n",
    "```\n",
    "the version is v22.3.5"
   ]
  },
  {
   "cell_type": "markdown",
   "id": "a711fd06-0b02-4476-80ca-bc37ad75a6be",
   "metadata": {},
   "source": [
    "## Question 2\n",
    "```\n",
    "rpk topic create test-topic\n",
    "TOPIC       STATUS\n",
    "test-topic  OK\n",
    "```\n"
   ]
  },
  {
   "cell_type": "markdown",
   "id": "fb8132bf-971a-4f81-80e4-92b7fd2cb4d4",
   "metadata": {},
   "source": [
    "## Question 3"
   ]
  },
  {
   "cell_type": "code",
   "execution_count": 1,
   "id": "6b8e9523-bcbb-4b5e-bbae-0a34e40b270a",
   "metadata": {},
   "outputs": [
    {
     "name": "stdout",
     "output_type": "stream",
     "text": [
      "Collecting kafka-python\n",
      "  Downloading kafka_python-2.0.2-py2.py3-none-any.whl.metadata (7.8 kB)\n",
      "Downloading kafka_python-2.0.2-py2.py3-none-any.whl (246 kB)\n",
      "\u001b[2K   \u001b[90m━━━━━━━━━━━━━━━━━━━━━━━━━━━━━━━━━━━━━━━━\u001b[0m \u001b[32m246.5/246.5 kB\u001b[0m \u001b[31m7.4 MB/s\u001b[0m eta \u001b[36m0:00:00\u001b[0m\n",
      "\u001b[?25hInstalling collected packages: kafka-python\n",
      "Successfully installed kafka-python-2.0.2\n"
     ]
    }
   ],
   "source": [
    "!pip install kafka-python"
   ]
  },
  {
   "cell_type": "code",
   "execution_count": 2,
   "id": "3c460500-cf65-48da-91c1-4c6747017d67",
   "metadata": {},
   "outputs": [
    {
     "data": {
      "text/plain": [
       "True"
      ]
     },
     "execution_count": 2,
     "metadata": {},
     "output_type": "execute_result"
    }
   ],
   "source": [
    "import json\n",
    "import time \n",
    "\n",
    "from kafka import KafkaProducer\n",
    "\n",
    "def json_serializer(data):\n",
    "    return json.dumps(data).encode('utf-8')\n",
    "\n",
    "server = 'localhost:9092'\n",
    "\n",
    "producer = KafkaProducer(\n",
    "    bootstrap_servers=[server],\n",
    "    value_serializer=json_serializer\n",
    ")\n",
    "\n",
    "producer.bootstrap_connected()"
   ]
  },
  {
   "cell_type": "markdown",
   "id": "766ccb86-4da9-4468-9f5e-c4312781d789",
   "metadata": {},
   "source": [
    "## Question 4"
   ]
  },
  {
   "cell_type": "code",
   "execution_count": 3,
   "id": "12e9ad25-e332-4d1b-9d11-8d900c345b6a",
   "metadata": {},
   "outputs": [
    {
     "name": "stdout",
     "output_type": "stream",
     "text": [
      "Sent: {'number': 0}\n",
      "Sent: {'number': 1}\n",
      "Sent: {'number': 2}\n",
      "Sent: {'number': 3}\n",
      "Sent: {'number': 4}\n",
      "Sent: {'number': 5}\n",
      "Sent: {'number': 6}\n",
      "Sent: {'number': 7}\n",
      "Sent: {'number': 8}\n",
      "Sent: {'number': 9}\n",
      "Sending topic took 0.51 seconds\n",
      "Total time took 0.51 seconds\n"
     ]
    }
   ],
   "source": [
    "t0 = time.time()\n",
    "\n",
    "topic_name = 'test-topic'\n",
    "\n",
    "for i in range(10):\n",
    "    message = {'number': i}\n",
    "    producer.send(topic_name, value=message)\n",
    "    print(f\"Sent: {message}\")\n",
    "    time.sleep(0.05)\n",
    "t1 = time.time()\n",
    "print(f'Sending topic took {(t1 - t0):.2f} seconds')\n",
    "producer.flush()\n",
    "\n",
    "t2 = time.time()\n",
    "print(f'Total time took {(t2 - t0):.2f} seconds')"
   ]
  },
  {
   "cell_type": "markdown",
   "id": "fce59bfb-e6d2-4e41-b0f8-07c9e2dafd93",
   "metadata": {},
   "source": [
    "Sending messages takes the most time"
   ]
  }
 ],
 "metadata": {
  "kernelspec": {
   "display_name": "Python 3 (ipykernel)",
   "language": "python",
   "name": "python3"
  },
  "language_info": {
   "codemirror_mode": {
    "name": "ipython",
    "version": 3
   },
   "file_extension": ".py",
   "mimetype": "text/x-python",
   "name": "python",
   "nbconvert_exporter": "python",
   "pygments_lexer": "ipython3",
   "version": "3.11.7"
  }
 },
 "nbformat": 4,
 "nbformat_minor": 5
}
